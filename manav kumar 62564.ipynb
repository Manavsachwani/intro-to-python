{
 "cells": [
  {
   "cell_type": "markdown",
   "metadata": {},
   "source": [
    "# Integers"
   ]
  },
  {
   "cell_type": "code",
   "execution_count": 4,
   "metadata": {},
   "outputs": [
    {
     "name": "stdout",
     "output_type": "stream",
     "text": [
      "Sum: 30\n",
      "Difference: -10\n",
      "Product: 200\n",
      "Division: 0.5\n"
     ]
    }
   ],
   "source": [
    "num1 = 10\n",
    "num2 = 20\n",
    "\n",
    "sum = num1 + num2\n",
    "difference= num1 - num2\n",
    "product= num1 * num2\n",
    "division = num1 / num2\n",
    "\n",
    "\n",
    "\n",
    "print(\"Sum:\", sum)\n",
    "print(\"Difference:\", difference)\n",
    "print(\"Product:\", product)\n",
    "print(\"Division:\", division)\n"
   ]
  },
  {
   "cell_type": "markdown",
   "metadata": {},
   "source": [
    "# Floats"
   ]
  },
  {
   "cell_type": "code",
   "execution_count": 8,
   "metadata": {},
   "outputs": [
    {
     "name": "stdout",
     "output_type": "stream",
     "text": [
      "Sum: 5.8580000000000005\n",
      "Difference: 0.42200000000000015\n",
      "Product: 8.53452\n",
      "Division: 1.155261221486387\n"
     ]
    }
   ],
   "source": [
    "num1 = 3.14\n",
    "num2 = 2.718\n",
    "\n",
    "sum = num1 + num2\n",
    "difference = num1 - num2\n",
    "product = num1 * num2\n",
    "division = num1 / num2\n",
    "\n",
    "print(\"Sum:\", sum)\n",
    "print(\"Difference:\", difference)\n",
    "print(\"Product:\", product)\n",
    "print(\"Division:\", division)\n"
   ]
  },
  {
   "cell_type": "markdown",
   "metadata": {},
   "source": [
    "# Boolean"
   ]
  },
  {
   "cell_type": "code",
   "execution_count": 9,
   "metadata": {},
   "outputs": [
    {
     "name": "stdout",
     "output_type": "stream",
     "text": [
      "Am I a student? True\n",
      "Am I a teacher? False\n",
      "Am I active? True\n",
      "Am I inactive? False\n",
      "Am I an adult? True\n",
      "Am I a senior citizen? False\n"
     ]
    }
   ],
   "source": [
    "is_student = True\n",
    "is_teacher = False\n",
    "\n",
    "is_active = True\n",
    "is_inactive = False\n",
    "\n",
    "\n",
    "age = 25\n",
    "is_adult = age >= 18\n",
    "is_senior = age >= 60\n",
    "\n",
    "print(\"Am I a student?\", is_student)\n",
    "print(\"Am I a teacher?\", is_teacher)\n",
    "print(\"Am I active?\", is_active)\n",
    "print(\"Am I inactive?\", is_inactive)\n",
    "print(\"Am I an adult?\", is_adult)\n",
    "print(\"Am I a senior citizen?\", is_senior)"
   ]
  },
  {
   "cell_type": "markdown",
   "metadata": {},
   "source": [
    "\n",
    "\n",
    "# Strings\n",
    "\n"
   ]
  },
  {
   "cell_type": "markdown",
   "metadata": {},
   "source": [
    "# strings indexing"
   ]
  },
  {
   "cell_type": "code",
   "execution_count": 18,
   "metadata": {},
   "outputs": [
    {
     "name": "stdout",
     "output_type": "stream",
     "text": [
      "First character: s\n",
      "Second character: t\n",
      "Third character: u\n",
      "fourth character: d\n",
      "Second last character: n\n",
      "Third last character: e\n"
     ]
    }
   ],
   "source": [
    "name = \"student\"\n",
    "\n",
    "\n",
    "first_char = name[0]\n",
    "second_char = name[1]\n",
    "third_char = name[2]\n",
    "fourth_char =name[3]\n",
    "second_last_char =name[-2]\n",
    "third_last_char = name[-3]\n",
    "\n",
    "\n",
    "print(\"First character:\", first_char)\n",
    "print(\"Second character:\", second_char)\n",
    "print(\"Third character:\", third_char)\n",
    "print(\"fourth character:\", fourth_char)\n",
    "print(\"Second last character:\", second_last_char)\n",
    "print(\"Third last character:\", third_last_char)\n"
   ]
  },
  {
   "cell_type": "markdown",
   "metadata": {},
   "source": [
    "# Slicing"
   ]
  },
  {
   "cell_type": "code",
   "execution_count": 34,
   "metadata": {},
   "outputs": [
    {
     "name": "stdout",
     "output_type": "stream",
     "text": [
      "first_char: stud\n",
      "second_char: tud\n",
      "third_char: ,teacher\n",
      "fourth_char: student,te\n"
     ]
    }
   ],
   "source": [
    "name = \"student,teacher\"\n",
    "\n",
    "\n",
    "first_char =name[0:4]  \n",
    "second_char = name[1:4]\n",
    "third_char = name[7:]\n",
    "fourth_char = name[:10]\n",
    "\n",
    "  \n",
    "\n",
    "print(\"first_char:\", first_char)\n",
    "print(\"second_char:\", second_char)\n",
    "print(\"third_char:\", third_char)\n",
    "print(\"fourth_char:\", fourth_char)"
   ]
  },
  {
   "cell_type": "markdown",
   "metadata": {},
   "source": [
    "# Strings class method"
   ]
  },
  {
   "cell_type": "code",
   "execution_count": 38,
   "metadata": {},
   "outputs": [
    {
     "name": "stdout",
     "output_type": "stream",
     "text": [
      "Uppercase:   HELLO, WORLD!  \n",
      "Uppercase:   HELLO, WORLD!  \n",
      "Replaced:   Hello, Universe!  \n",
      "Split: ['  Hello', ' World!  ']\n"
     ]
    }
   ],
   "source": [
    "text = \"  Hello, World!  \"\n",
    "\n",
    "uppercase_text = text.upper()\n",
    "lowercase_text = text.lower()\n",
    "replaced_text = text.replace(\"World\", \"Universe\")\n",
    "split_text = text.split(\",\")\n",
    "\n",
    "\n",
    "print(\"Uppercase:\", uppercase_text)\n",
    "print(\"Uppercase:\", uppercase_text)\n",
    "print(\"Replaced:\", replaced_text)\n",
    "print(\"Split:\", split_text)"
   ]
  }
 ],
 "metadata": {
  "kernelspec": {
   "display_name": "Python 3",
   "language": "python",
   "name": "python3"
  },
  "language_info": {
   "codemirror_mode": {
    "name": "ipython",
    "version": 3
   },
   "file_extension": ".py",
   "mimetype": "text/x-python",
   "name": "python",
   "nbconvert_exporter": "python",
   "pygments_lexer": "ipython3",
   "version": "3.6.5"
  }
 },
 "nbformat": 4,
 "nbformat_minor": 2
}
